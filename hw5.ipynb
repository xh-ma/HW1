{
 "cells": [
  {
   "cell_type": "markdown",
   "id": "abc8bbb8",
   "metadata": {},
   "source": [
    "# \"Pre-lecture\" HW5"
   ]
  },
  {
   "cell_type": "markdown",
   "id": "b7b662ad",
   "metadata": {},
   "source": [
    "## Question 1"
   ]
  },
  {
   "cell_type": "markdown",
   "id": "05a3ce5b",
   "metadata": {},
   "source": [
    "The key factor that makes the difference between ideas that can, and cannot be examined and tested statistically is whether the idea can be formulated into a testable hypothesis with measurable variables and outcomes. If an idea is too vague, subjective, or lacks a clear way to collect and analyze data, it might not be suitable for statistical testing. A good null hypothesis should be a specific, testable statement that proposes no effect or relationship between the variables being studied.\n",
    "A good null hypothesis often includes these criteria:\n",
    "- Specific: It clearly states the relationship between variables.\n",
    "- Testable: It can be tested through data collection and analysis.\n",
    "- Falsifiable: It's possible to find evidence that contradicts the null hypothesis.\n",
    "\n",
    "In hypothesis testing,\n",
    "- Null Hypothesis (H0): This is the statement of no effect, difference, or relationship that you are trying to disprove.\n",
    "- Alternative Hypothesis (H1 or Ha): This is the statement that contradicts the null hypothesis and suggests that there is an effect, difference, or relationship.\n",
    "\n",
    "The goal of hypothesis testing is to determine whether there is enough evidence to reject the null hypothesis in favor of the alternative hypothesis.\n"
   ]
  },
  {
   "cell_type": "markdown",
   "id": "8285b949",
   "metadata": {},
   "source": [
    "## Question 2"
   ]
  },
  {
   "cell_type": "markdown",
   "id": "cf3efddb",
   "metadata": {},
   "source": [
    "To explain the terms:\n",
    "\n",
    "- **x̄ (x-bar)**: This represents the **sample mean**, which is the average value from the data we actually collect from a subset (sample) of the population.\n",
    "- **μ (mu)**: This is the **population mean**, the average value of a characteristic across the entire population, which is often unknown.\n",
    "- **μ₀ (mu-zero)**: This represents the **hypothesized population mean** under the null hypothesis, essentially the \"no effect\" or baseline assumption we are testing against.\n",
    "- **$x_i$(xi)**: This symbol refers to **the value of a specific observation** in a dataset. It indicates the value of a variable for the i-th individual or item. For example, if you have a dataset of heights of individuals, $x_i$ would refer to the height of the i-th person in the dataset.\n",
    "\n",
    "\n",
    "In simple terms, while we calculate things like **x̄** from the sample, these are estimates of the **true population values** like **μ** that we ultimately care about. The goal of the test is to infer something about **μ** (the population parameter), not just **x̄** (the sample statistic).Even though we calculate results based on a sample, the purpose is to make inferences or conclusions about the whole population. The outcome of a test gives us information about the population parameter, not just the sample statistic itself. "
   ]
  },
  {
   "cell_type": "markdown",
   "id": "34965f73",
   "metadata": {},
   "source": [
    "Here's another way to think about it:\n",
    "\n",
    "- Imagine you're a researcher studying whether a new drug lowers blood pressure.\n",
    "- You conduct a clinical trial with a sample of 1000 participants. This is your sample drawn from the larger population of people who might benefit from the drug.\n",
    "- You find that, on average, the drug lowers blood pressure in your sample. This average change is your sample statistic (x̄).\n",
    "- However, you're not just interested in whether the drug worked for those specific 1000 people. You want to know if it will work for the entire population of potential patients.\n",
    "- This is where hypothesis testing comes in. You'd set up a null hypothesis (μ₀) stating that the drug has no effect on blood pressure in the population.\n",
    "- By analyzing your sample data and considering the variability within your sample, you can determine whether the observed reduction in blood pressure is strong enough to reject the null hypothesis.\n",
    "- If you reject the null hypothesis, it suggests that the drug likely has a real effect on blood pressure in the broader population, not just in your sample."
   ]
  },
  {
   "cell_type": "markdown",
   "id": "a38b4be7",
   "metadata": {},
   "source": [
    "### Summary of Interactions with NBLM ChatBot\n",
    "\n",
    "This conversation has focused on understanding the relationship between sample statistics and population parameters in the context of hypothesis testing. You initially provided these statistical symbols:\n",
    "\n",
    "- x̄ (x-bar): Represents the sample mean.\n",
    "\n",
    "- μ (mu): Represents the population mean.\n",
    "\n",
    "- μ₀ (mu-zero): Represents the hypothesized population mean under the null hypothesis.\n",
    "\n",
    "- $x_i$ (xi): Represents the value of a variable for a single observation within your dataset.\n",
    "\n",
    "The conversation then explored how these concepts relate to the statement: \"It is important to note that outcomes of tests refer to the population parameter, rather than the sample statistic! As such, the result that we get is for the population.\"\n",
    "The main point of the statement, and the focus of our discussion, is that hypothesis tests aim to make inferences about a population parameter (like μ), using the information we get from our sample data (like x̄). While our calculations are based on a subset of the population (the sample), the goal is to draw conclusions about the larger group."
   ]
  },
  {
   "cell_type": "markdown",
   "id": "6eebdea7",
   "metadata": {},
   "source": [
    "## Question 3"
   ]
  },
  {
   "cell_type": "markdown",
   "id": "80797370",
   "metadata": {},
   "source": [
    "When calculating a p-value, we assume the null hypothesis (H₀) is true to compare our observed test statistic to the sampling distribution of the test statistic under H₀. Then consider, if the null hypothesis were true, how likely is it that we would have obtained the sample results we did (or even more extreme results) just by random chance. The p-value tells us how likely it is to observe our result (or something more extreme) if H₀ is true. A small p-value suggests our result is unlikely under the null, leading us to reject H₀. Conversely, a large p-value suggests our results could easily have happened even if the null hypothesis were true, so we wouldn't have enough evidence to reject it."
   ]
  },
  {
   "cell_type": "markdown",
   "id": "8422542a",
   "metadata": {},
   "source": [
    "## Question 4"
   ]
  },
  {
   "cell_type": "markdown",
   "id": "cd2dec84",
   "metadata": {},
   "source": [
    "A smaller p-value indicates that the observed data is highly unlikely under the null hypothesis (H₀). This suggests strong evidence against H₀, making it seem \"ridiculous.\" Essentially, when the p-value is low, it implies that the null hypothesis does not accurately reflect reality, leading us to reject it in favor of the alternative hypothesis. \n",
    "\n",
    "In other words, when the p-value is samll, it means that the data we collected is very unlikely to have occurred if the null hypothesis were true. If there really were no effect (as the null hypothesis claims), getting this specific set of data, or something more extreme, would be highly improbable. This makes us question whether the null hypothesis is correct, because it's hard to believe that we would get such unusual data purely by chance. Thus, a small p-value tells us that our results don’t align well with the idea of \"no effect,\" making the null hypothesis appear less plausible."
   ]
  },
  {
   "cell_type": "markdown",
   "id": "1f2d73f4",
   "metadata": {},
   "source": [
    "## Question 5"
   ]
  },
  {
   "cell_type": "code",
   "execution_count": 3,
   "id": "c0229702",
   "metadata": {},
   "outputs": [
    {
     "data": {
      "text/plain": [
       "0.0003"
      ]
     },
     "execution_count": 3,
     "metadata": {},
     "output_type": "execute_result"
    }
   ],
   "source": [
    "import numpy as np\n",
    "\n",
    "# Parameters\n",
    "n_couples = 124  # number of couples\n",
    "observed_right_tilts = 80  # observed number of right tilts\n",
    "n_simulations = 10000  # number of simulations\n",
    "right_tilt_probability = 0.5  # probability of right tilt under H0\n",
    "\n",
    "# Simulating the coin-flip experiment\n",
    "simulated_right_tilts = np.random.binomial(n=n_couples, p=right_tilt_probability, size=n_simulations)\n",
    "\n",
    "# Calculate p-value: proportion of simulations with right tilts >= observed\n",
    "p_value = np.sum(simulated_right_tilts >= observed_right_tilts) / n_simulations\n",
    "p_value\n"
   ]
  },
  {
   "cell_type": "markdown",
   "id": "f1e5abba",
   "metadata": {},
   "source": [
    "According to the simulation above, the p-value is approximately 0.0003, which indicates strong evidence against the null hypothesis base on the table provided (p ≤ 0.001 -> Very strong evidence). This suggests that it is unlikely the observed preference for rightward head tilting (64.5%) is due to random chance, and there may be a tendency for couples to tilt their heads to the right when kissing."
   ]
  },
  {
   "cell_type": "markdown",
   "id": "3cf66fa2",
   "metadata": {},
   "source": [
    "### Summary of Interactions with ChatGPT\n",
    "\n",
    "Context:\n",
    "You provided data from Güntürkün (2003), where 80 out of 124 kissing couples tilted their heads to the right (64.5%). You asked to simulate a p-value using a \"50/50 coin-flipping\" model under the null hypothesis, which assumes no preference for right or left head tilting in the population. Additionally, you provided a table to assess the level of evidence based on the p-value.\n",
    "\n",
    "Steps Taken:\n",
    "\n",
    "Setup:\n",
    "We treated the problem as a binomial experiment, simulating head tilts for 124 couples under the assumption of a 50/50 chance for either direction.\n",
    "\n",
    "Simulation:\n",
    "I ran 10,000 simulations of head tilts for 124 couples, assuming each couple had a 50% chance of tilting their head to the right. For each simulation, I recorded how many couples tilted right.\n",
    "\n",
    "Calculation of p-value:\n",
    "We compared the observed number of right tilts (80) to the simulated data. The p-value was computed as the proportion of simulations where 80 or more couples tilted right by chance.\n",
    "\n",
    "Result:\n",
    "The p-value was approximately 0.0011.\n",
    "\n",
    "Interpretation:\n",
    "Based on the table of evidence, a p-value of 0.0011 provides strong evidence against the null hypothesis, indicating that the observed preference for rightward head tilting is unlikely to be due to chance."
   ]
  },
  {
   "cell_type": "markdown",
   "id": "34dc9b39",
   "metadata": {},
   "source": [
    "[Chatbot transcript](https://chatgpt.com/share/67034611-1850-800f-b5cf-8319cc0d1e04)"
   ]
  },
  {
   "cell_type": "markdown",
   "id": "3aa2c3fe",
   "metadata": {},
   "source": [
    "## Question 6"
   ]
  },
  {
   "cell_type": "markdown",
   "id": "dea8c224",
   "metadata": {},
   "source": [
    "A smaller p-value does not definitively prove that the null hypothesis (H₀) is false. In the case of Fido, where the null hypothesis states that he is innocent, a low p-value indicates that the evidence against him is strong, but it does not provide absolute proof of guilt. Similarly, a high p-value does not definitively prove Fido's innocence. It merely suggests that there isn't strong evidence to reject the null hypothesis.\n",
    "\n",
    "Hypothesis testing, and therefore p-values, are based on probabilities, not certainties. A small p-value suggests that the observed data (e.g., Fido standing near the overturned garbage bin) would be unlikely if he were truly innocent (the null hypothesis), which might lead you to believe he's guilty. However, it doesn't rule out the possibility that he's innocent and that something else caused the garbage to be strewn about. It's important to remember that there's always a chance of error, as P-values provide a measure of evidence against the null hypothesis, but they don't offer absolute proof."
   ]
  },
  {
   "cell_type": "markdown",
   "id": "72e95006",
   "metadata": {},
   "source": [
    "## Question 7"
   ]
  },
  {
   "cell_type": "code",
   "execution_count": 15,
   "id": "c974ab2a",
   "metadata": {},
   "outputs": [
    {
     "data": {
      "text/html": [
       "<div>\n",
       "<style scoped>\n",
       "    .dataframe tbody tr th:only-of-type {\n",
       "        vertical-align: middle;\n",
       "    }\n",
       "\n",
       "    .dataframe tbody tr th {\n",
       "        vertical-align: top;\n",
       "    }\n",
       "\n",
       "    .dataframe thead th {\n",
       "        text-align: right;\n",
       "    }\n",
       "</style>\n",
       "<table border=\"1\" class=\"dataframe\">\n",
       "  <thead>\n",
       "    <tr style=\"text-align: right;\">\n",
       "      <th></th>\n",
       "      <th>PatientID</th>\n",
       "      <th>Age</th>\n",
       "      <th>Gender</th>\n",
       "      <th>InitialHealthScore</th>\n",
       "      <th>FinalHealthScore</th>\n",
       "      <th>HealthScoreChange</th>\n",
       "    </tr>\n",
       "  </thead>\n",
       "  <tbody>\n",
       "    <tr>\n",
       "      <th>0</th>\n",
       "      <td>1</td>\n",
       "      <td>45</td>\n",
       "      <td>M</td>\n",
       "      <td>84</td>\n",
       "      <td>86</td>\n",
       "      <td>2</td>\n",
       "    </tr>\n",
       "    <tr>\n",
       "      <th>1</th>\n",
       "      <td>2</td>\n",
       "      <td>34</td>\n",
       "      <td>F</td>\n",
       "      <td>78</td>\n",
       "      <td>86</td>\n",
       "      <td>8</td>\n",
       "    </tr>\n",
       "    <tr>\n",
       "      <th>2</th>\n",
       "      <td>3</td>\n",
       "      <td>29</td>\n",
       "      <td>M</td>\n",
       "      <td>83</td>\n",
       "      <td>80</td>\n",
       "      <td>-3</td>\n",
       "    </tr>\n",
       "    <tr>\n",
       "      <th>3</th>\n",
       "      <td>4</td>\n",
       "      <td>52</td>\n",
       "      <td>F</td>\n",
       "      <td>81</td>\n",
       "      <td>86</td>\n",
       "      <td>5</td>\n",
       "    </tr>\n",
       "    <tr>\n",
       "      <th>4</th>\n",
       "      <td>5</td>\n",
       "      <td>37</td>\n",
       "      <td>M</td>\n",
       "      <td>81</td>\n",
       "      <td>84</td>\n",
       "      <td>3</td>\n",
       "    </tr>\n",
       "    <tr>\n",
       "      <th>5</th>\n",
       "      <td>6</td>\n",
       "      <td>41</td>\n",
       "      <td>F</td>\n",
       "      <td>80</td>\n",
       "      <td>86</td>\n",
       "      <td>6</td>\n",
       "    </tr>\n",
       "    <tr>\n",
       "      <th>6</th>\n",
       "      <td>7</td>\n",
       "      <td>33</td>\n",
       "      <td>M</td>\n",
       "      <td>79</td>\n",
       "      <td>86</td>\n",
       "      <td>7</td>\n",
       "    </tr>\n",
       "    <tr>\n",
       "      <th>7</th>\n",
       "      <td>8</td>\n",
       "      <td>48</td>\n",
       "      <td>F</td>\n",
       "      <td>85</td>\n",
       "      <td>82</td>\n",
       "      <td>-3</td>\n",
       "    </tr>\n",
       "    <tr>\n",
       "      <th>8</th>\n",
       "      <td>9</td>\n",
       "      <td>26</td>\n",
       "      <td>M</td>\n",
       "      <td>76</td>\n",
       "      <td>83</td>\n",
       "      <td>7</td>\n",
       "    </tr>\n",
       "    <tr>\n",
       "      <th>9</th>\n",
       "      <td>10</td>\n",
       "      <td>39</td>\n",
       "      <td>F</td>\n",
       "      <td>83</td>\n",
       "      <td>84</td>\n",
       "      <td>1</td>\n",
       "    </tr>\n",
       "  </tbody>\n",
       "</table>\n",
       "</div>"
      ],
      "text/plain": [
       "   PatientID  Age Gender  InitialHealthScore  FinalHealthScore  \\\n",
       "0          1   45      M                  84                86   \n",
       "1          2   34      F                  78                86   \n",
       "2          3   29      M                  83                80   \n",
       "3          4   52      F                  81                86   \n",
       "4          5   37      M                  81                84   \n",
       "5          6   41      F                  80                86   \n",
       "6          7   33      M                  79                86   \n",
       "7          8   48      F                  85                82   \n",
       "8          9   26      M                  76                83   \n",
       "9         10   39      F                  83                84   \n",
       "\n",
       "   HealthScoreChange  \n",
       "0                  2  \n",
       "1                  8  \n",
       "2                 -3  \n",
       "3                  5  \n",
       "4                  3  \n",
       "5                  6  \n",
       "6                  7  \n",
       "7                 -3  \n",
       "8                  7  \n",
       "9                  1  "
      ]
     },
     "execution_count": 15,
     "metadata": {},
     "output_type": "execute_result"
    }
   ],
   "source": [
    "import pandas as pd\n",
    "\n",
    "patient_data = pd.DataFrame({\n",
    "    \"PatientID\": [1, 2, 3, 4, 5, 6, 7, 8, 9, 10],\n",
    "    \"Age\": [45, 34, 29, 52, 37, 41, 33, 48, 26, 39],\n",
    "    \"Gender\": [\"M\", \"F\", \"M\", \"F\", \"M\", \"F\", \"M\", \"F\", \"M\", \"F\"],\n",
    "    \"InitialHealthScore\": [84, 78, 83, 81, 81, 80, 79, 85, 76, 83],\n",
    "    \"FinalHealthScore\": [86, 86, 80, 86, 84, 86, 86, 82, 83, 84]\n",
    "})\n",
    "patient_data['HealthScoreChange'] = patient_data.FinalHealthScore-patient_data.InitialHealthScore\n",
    "patient_data"
   ]
  },
  {
   "cell_type": "code",
   "execution_count": 16,
   "id": "03de7a9c",
   "metadata": {},
   "outputs": [
    {
     "name": "stdout",
     "output_type": "stream",
     "text": [
      "Observed test statistic: 0.8\n",
      "P-value for the right-tailed test (H1: p > 0.5): 0.0553\n",
      "P-value for the left-tailed test (H1: p < 0.5): 0.9891\n"
     ]
    }
   ],
   "source": [
    "# Null hypothesis parameter value\n",
    "population_parameter_value_under_H0 = 0.5\n",
    "\n",
    "# Observed test statistic: proportion of positive health score changes\n",
    "observed_test_statistic = (patient_data['HealthScoreChange'] > 0).mean()\n",
    "\n",
    "# Simulating test statistics under the null hypothesis (randomly assigning signs)\n",
    "number_of_simulations = 10000\n",
    "random_signs = np.random.choice([-1, 1], size=(number_of_simulations, len(patient_data)))\n",
    "\n",
    "# Simulated health score changes under H0\n",
    "simulated_health_changes = random_signs * np.abs(patient_data['HealthScoreChange'].values)\n",
    "\n",
    "# Simulated test statistics: proportion of positive changes in each simulation\n",
    "simulated_test_statistics = (simulated_health_changes > 0).mean(axis=1)\n",
    "\n",
    "# One-Sided Test (Right-Tailed): Test if the observed statistic is greater than the null hypothesis value\n",
    "p_value_right_tailed = (simulated_test_statistics >= observed_test_statistic).mean()\n",
    "\n",
    "# One-Sided Test (Left-Tailed): Test if the observed statistic is less than the null hypothesis value\n",
    "p_value_left_tailed = (simulated_test_statistics <= observed_test_statistic).mean()\n",
    "\n",
    "# Output the results\n",
    "print(\"Observed test statistic:\", observed_test_statistic)\n",
    "print(\"P-value for the right-tailed test (H1: p > 0.5):\", p_value_right_tailed)\n",
    "print(\"P-value for the left-tailed test (H1: p < 0.5):\", p_value_left_tailed)"
   ]
  },
  {
   "cell_type": "markdown",
   "id": "76cb9738",
   "metadata": {},
   "source": [
    "- Observed test statistic: 0.8 (i.e., 80% of the patients experienced a positive health score change).\n",
    "- The right-tailed p-value will tell you the likelihood that the observed statistic is greater than or equal to what would be expected under the null hypothesis.\n",
    "    - 5.53% of the time, you would observe a proportion of positive changes as extreme or more extreme than 0.8, given that the true proportion is 0.5 (under the null hypothesis).\n",
    "    - You would not reject the null hypothesis at the 5% significance level, but the result is marginally significant. \n",
    "- The left-tailed p-value will tell you the likelihood that the observed statistic is less than or equal to what would be expected under the null hypothesis.\n",
    "    - 98.91% of the time, you would observe a proportion as low as 0.8 or lower, given that the true proportion is 0.5 (under the null hypothesis).\n",
    "    - This p-value is very large, indicating that there is almost no evidence to support the hypothesis that the proportion is less than 0.5. You would not reject the null hypothesis."
   ]
  },
  {
   "cell_type": "markdown",
   "id": "85d6c22f",
   "metadata": {},
   "source": [
    "Changes:"
   ]
  },
  {
   "cell_type": "markdown",
   "id": "038afb25",
   "metadata": {},
   "source": [
    "- The original code was set up for a two-tailed test, where the p-value was computed based on how extreme the observed statistic was in both directions (greater than or less than the null hypothesis value).\n",
    "- In the revised code, we now perform two separate one-tailed tests:\n",
    "    - Right-tailed test: This tests whether the observed proportion of positive health score changes is greater than the null hypothesis value of 0.5.\n",
    "    - Left-tailed test: This tests whether the observed proportion of positive health score changes is less than the null hypothesis value of 0.5.\n",
    "    "
   ]
  },
  {
   "cell_type": "markdown",
   "id": "1475a969",
   "metadata": {},
   "source": [
    "- Two-tailed test: The p-value for the two-tailed test checks for extremes in both directions by comparing simulated statistics that are either higher or lower than the observed statistic.\n",
    "- One-tailed test: In the modified version, we now separately compute:\n",
    "    - The right-tailed p-value by checking how many simulated test statistics are greater than or equal to the observed statistic.\n",
    "    - The left-tailed p-value by checking how many simulated test statistics are less than or equal to the observed statistic."
   ]
  },
  {
   "cell_type": "markdown",
   "id": "eb89b4aa",
   "metadata": {},
   "source": [
    "These changes make it possible to test specific directional hypotheses, depending on whether you're interested in testing if the proportion of positive health score changes is greater than or less than the hypothesized 0.5."
   ]
  },
  {
   "cell_type": "markdown",
   "id": "650fa369",
   "metadata": {},
   "source": [
    "Interpretation Change:\n",
    "- Two-tailed test: Tests for deviations from the null hypothesis (p = 0.5) in either direction (greater or less).\n",
    "- One-tailed test: Focuses on deviations in one direction only (e.g.,p > 0.5 for right-tailed or p < 0.5 for left-tailed).\n"
   ]
  },
  {
   "cell_type": "markdown",
   "id": "b387fec4",
   "metadata": {},
   "source": [
    "Yes, we should generally expect the p-value to be smaller in a one-tailed test compared to a two-tailed test (given the same observed test statistic), because:\n",
    "\n",
    "- Two-tailed test: The p-value includes probabilities from both tails of the distribution (both directions), so it covers a wider range of extreme values.\n",
    "- One-tailed test: The p-value only includes probabilities from one tail, focusing on deviations in only one direction, making the test more specific and likely resulting in a smaller p-value."
   ]
  },
  {
   "cell_type": "markdown",
   "id": "4336b43e",
   "metadata": {},
   "source": [
    "### Summary of Interactions with ChatGPT\n",
    "\n",
    "1. Introduction to Hypothesis Testing:\n",
    "\n",
    "- We discussed the differences between one-tailed and two-tailed hypothesis tests.\n",
    "- In a two-tailed test, the null hypothesis (H0) tests for deviations in either direction from a specified parameter, while the alternative hypothesis (H1) tests if the parameter is not equal to a value (e.g., p ≠ 0.5).\n",
    "- In a one-tailed test, the alternative hypothesis is directional, testing either if the parameter is greater than (H1: p > 0.5) or less than (H1: p < 0.5) the null hypothesis value.\n",
    "\n",
    "2. P-Value Calculation:\n",
    "\n",
    "- The p-value for a two-tailed test includes the probability of observing an outcome as extreme or more extreme than the observed statistic in both directions, leading to a generally larger p-value.\n",
    "- The p-value for a one-tailed test focuses only on one direction, making it typically smaller as it considers deviations in only that specified direction.\n",
    "\n",
    "3. Example Results:\n",
    "\n",
    "- We discussed a case where the observed test statistic was 0.8.\n",
    "- P-value for the right-tailed test (H1: p > 0.5): 0.0553 (indicating a marginal significance).\n",
    "- P-value for the left-tailed test (H1: p < 0.5): 0.9891 (indicating no significance).\n",
    "- The results indicated a trend toward significance in the right-tailed test but not in the left-tailed test.\n",
    "\n",
    "4. Interpretation of Results:\n",
    "\n",
    "- The one-tailed test provides a focused hypothesis and a smaller p-value, suggesting a specific direction of interest, while the two-tailed test accounts for changes in either direction, resulting in a larger p-value.\n",
    "- We concluded that one-tailed tests are useful when a specific directional hypothesis is being tested, whereas two-tailed tests are appropriate when the possibility of effects in either direction is relevant.\n"
   ]
  },
  {
   "cell_type": "markdown",
   "id": "ae72843c",
   "metadata": {},
   "source": [
    "[Chatbot transcript](https://chatgpt.com/share/670351b3-095c-800f-a1bf-039ce6faaa98)"
   ]
  },
  {
   "cell_type": "markdown",
   "id": "215cccb9",
   "metadata": {},
   "source": [
    "## Question 8"
   ]
  },
  {
   "cell_type": "markdown",
   "id": "f59bfb36",
   "metadata": {},
   "source": [
    "#### Problem Setup\n",
    "\n",
    "- You have 80 students, and 49 of them correctly identified the pouring order.\n",
    "- We can treat this as a **binomial experiment**, where each student has a probability of correctly identifying the pouring order.\n",
    "- The question is whether the observed 49 correct responses out of 80 are significantly better than random guessing, which would have a success probability of 0.5 (since there are only two possibilities: tea first or milk first).\n",
    "\n",
    "#### Hypothesis Formulation\n",
    "\n",
    "- **Null Hypothesis (H₀):** The students are guessing randomly, i.e., the probability of a correct answer is \\( p = 0.5 \\).\n",
    "  \n",
    "  \\[\n",
    "  H₀: p = 0.5\n",
    "  \\]\n",
    "  \n",
    "- **Alternative Hypothesis (H₁):** The students are better than random guessing, i.e., the probability of a correct answer is greater than 0.5.\n",
    "  \n",
    "  \\[\n",
    "  H₁: p > 0.5\n",
    "  \\]\n",
    "\n",
    "#### Statistical Test"
   ]
  },
  {
   "cell_type": "markdown",
   "id": "eb338a4f",
   "metadata": {},
   "source": [
    "1. Z-Test"
   ]
  },
  {
   "cell_type": "code",
   "execution_count": 1,
   "id": "1ca0ea6e",
   "metadata": {},
   "outputs": [
    {
     "name": "stdout",
     "output_type": "stream",
     "text": [
      "Sample Proportion (p̂): 0.6125\n",
      "Z-Score: 2.0125\n",
      "P-Value: 0.0221\n",
      "Reject the null hypothesis (H0). There is evidence that students can identify the pouring order better than chance.\n"
     ]
    }
   ],
   "source": [
    "import scipy.stats as stats\n",
    "\n",
    "# Given data\n",
    "n = 80  # sample size\n",
    "k = 49  # number of correct identifications\n",
    "p_null = 0.5  # null hypothesis proportion\n",
    "\n",
    "# Calculate sample proportion\n",
    "p_hat = k / n  \n",
    "\n",
    "# Standard error under the null hypothesis\n",
    "std_dev = (p_null * (1 - p_null) / n) ** 0.5  \n",
    "\n",
    "# Z-score calculation\n",
    "z_score = (p_hat - p_null) / std_dev  \n",
    "\n",
    "# Calculate one-tailed p-value\n",
    "p_value = 1 - stats.norm.cdf(z_score)  \n",
    "\n",
    "# Significance level\n",
    "alpha = 0.05\n",
    "\n",
    "# Decision\n",
    "if p_value < alpha:\n",
    "    decision = \"Reject the null hypothesis (H0). There is evidence that students can identify the pouring order better than chance.\"\n",
    "else:\n",
    "    decision = \"Fail to reject the null hypothesis (H0). No evidence students can identify the pouring order better than chance.\"\n",
    "\n",
    "# Output results\n",
    "print(f\"Sample Proportion (p̂): {p_hat:.4f}\")\n",
    "print(f\"Z-Score: {z_score:.4f}\")\n",
    "print(f\"P-Value: {p_value:.4f}\")\n",
    "print(decision)\n"
   ]
  },
  {
   "cell_type": "markdown",
   "id": "c417f8fe",
   "metadata": {},
   "source": [
    "Since our p-value (0.0221) is less than 0.05, we reject the null hypothesis."
   ]
  },
  {
   "cell_type": "markdown",
   "id": "c9c9e50b",
   "metadata": {},
   "source": [
    "#### Explanation of the Method\n",
    "\n",
    "1. **Purpose of Hypothesis Testing**:\n",
    "   The purpose of hypothesis testing is to assess whether the observed data provides enough evidence to reject a predefined assumption (the null hypothesis) about a population parameter—in this case, the proportion of correct identifications, $p$. The goal is to determine whether the observed success rate (correct identifications) is statistically different from what we would expect under the null hypothesis of random guessing ($p = 0.5$).\n",
    "\n",
    "2. **Usage of the Z-Score and Standard Error**:\n",
    "   - **Z-Score**: The z-score is a measure of how far the observed sample proportion is from the expected population proportion, standardized by the standard error. The larger the z-score, the more extreme the deviation from the null hypothesis. A high z-score suggests that the observed result is unlikely to occur under the null hypothesis.\n",
    "   - **Standard Error**: The standard error quantifies the variability of the sample proportion due to random sampling. It provides a measure of how much the sample proportion is expected to vary around the population proportion. By dividing the difference between $\\hat{p}$ and $p_0$ by the standard error, we assess how surprising the observed data is under the assumption of the null hypothesis.\n",
    "\n",
    "3. **Conclusion from the P-Value**:\n",
    "   The p-value tells us the probability of observing a result as extreme as the one obtained if the null hypothesis were true. A small p-value (less than $\\alpha = 0.05$) means that the observed result is unlikely under $H_0$, and we have evidence to reject $H_0$.\n",
    "\n",
    "4. **Decision Based on the Test**:\n",
    "   In this case, since the p-value is 0.0221 (less than 0.05), we reject $H_0$. This suggests that the students are not just guessing randomly, and their ability to identify whether tea or milk was poured first is statistically better than chance. Therefore, we conclude that there is evidence that the students can correctly identify the pouring order more often than would be expected if they were purely guessing.\n"
   ]
  },
  {
   "cell_type": "markdown",
   "id": "d49f46ff",
   "metadata": {},
   "source": [
    "2. Binomial Test:"
   ]
  },
  {
   "cell_type": "code",
   "execution_count": 2,
   "id": "e87ce991",
   "metadata": {},
   "outputs": [
    {
     "name": "stdout",
     "output_type": "stream",
     "text": [
      "P-value: 0.02833\n"
     ]
    }
   ],
   "source": [
    "import numpy as np\n",
    "import scipy.stats as stats\n",
    "\n",
    "# Set the seed for reproducibility\n",
    "np.random.seed(42)\n",
    "\n",
    "# Parameters for the test\n",
    "n = 80  # sample size\n",
    "observed_correct = 49  # number of correct guesses\n",
    "p_null = 0.5  # null hypothesis probability of correct guesses\n",
    "\n",
    "# Binomial test for the hypothesis test\n",
    "# H0: p = 0.5 (random guessing)\n",
    "p_value = stats.binomtest(observed_correct, n, p_null, alternative='greater')\n",
    "\n",
    "# Print the p-value\n",
    "print(f\"P-value: {p_value.pvalue:.5f}\")"
   ]
  },
  {
   "cell_type": "markdown",
   "id": "a2b5e86f",
   "metadata": {},
   "source": [
    "This will correctly calculate the one-tailed binomial test p-value for the hypothesis that the students are guessing randomly. Directly calculates the probability using the binomial distribution, which is exact and does not rely on the normal approximation (no z-score).\n",
    "\n",
    "Since the p-value (0.02833) is less than 0.05, we reject the null hypothesis.\n",
    "- This suggests that there is strong evidence that the proportion of students who correctly identify the pouring order is greater than 50%. In other words, the result indicates that the students' ability to identify the correct pouring order is better than random guessing."
   ]
  },
  {
   "cell_type": "code",
   "execution_count": 3,
   "id": "543547fe",
   "metadata": {},
   "outputs": [
    {
     "data": {
      "image/png": "[encoded data removed]",
      "text/plain": [
       "<Figure size 1200x500 with 2 Axes>"
      ]
     },
     "metadata": {},
     "output_type": "display_data"
    }
   ],
   "source": [
    "import numpy as np\n",
    "import scipy.stats as stats\n",
    "import matplotlib.pyplot as plt\n",
    "\n",
    "# Parameters for the experiment\n",
    "n = 80\n",
    "observed_correct = 49\n",
    "p_null = 0.5\n",
    "z_score = (observed_correct/n - p_null) / np.sqrt(p_null * (1 - p_null) / n)\n",
    "\n",
    "# Plotting the normal distribution (Z-Test)\n",
    "x = np.linspace(-4, 4, 1000)\n",
    "normal_dist = stats.norm.pdf(x, 0, 1)\n",
    "\n",
    "plt.figure(figsize=(12, 5))\n",
    "\n",
    "# Subplot 1: Normal Distribution with Z-Score\n",
    "plt.subplot(1, 2, 1)\n",
    "plt.plot(x, normal_dist, label='Normal Distribution (Z-Test)', color='blue')\n",
    "plt.fill_between(x, 0, normal_dist, where=(x > z_score), color='lightblue', alpha=0.5)\n",
    "plt.axvline(z_score, color='red', linestyle='--', label=f'Z-Score: {z_score:.2f}')\n",
    "plt.title('Normal Distribution (Z-Test)')\n",
    "plt.xlabel('Z-Score')\n",
    "plt.ylabel('Probability Density')\n",
    "plt.legend()\n",
    "\n",
    "# Subplot 2: Binomial Distribution\n",
    "k_values = np.arange(0, n+1)\n",
    "binomial_probs = stats.binom.pmf(k_values, n, p_null)\n",
    "\n",
    "plt.subplot(1, 2, 2)\n",
    "plt.bar(k_values, binomial_probs, color='grey', label='Binomial Distribution', alpha=0.7)\n",
    "plt.bar(observed_correct, stats.binom.pmf(observed_correct, n, p_null), color='red', label=f'Observed: {observed_correct}')\n",
    "plt.title('Binomial Distribution (Binomial Test)')\n",
    "plt.xlabel('Number of Correct Guesses')\n",
    "plt.ylabel('Probability')\n",
    "plt.legend()\n",
    "\n",
    "plt.tight_layout()\n",
    "plt.show()\n"
   ]
  },
  {
   "cell_type": "markdown",
   "id": "e30b0db8",
   "metadata": {},
   "source": [
    "1. normal distribution plot (Z-test)\n",
    "- The first subplot visualizes the standard normal distribution.\n",
    "- The red dashed line represents the z-score calculated from the observed data.\n",
    "- The area under the curve to the right of the z-score represents the p-value (shaded region) for a one-tailed z-test.\n",
    "- we focus on the z-score and its relation to the null hypothesis by looking at how far the observed result deviates from the expected.\n",
    "\n",
    "2. bionomial distribution plot\n",
    "- The second subplot visualizes the binomial distribution for n = 80 and p = 0.5  (null hypothesis).\n",
    "- The bars represent the probabilities of obtaining different numbers of correct guesses.\n",
    "- The red bar highlights the observed correct guesses (49).\n",
    "- we visualize the probability of observing exactly 49 correct guesses."
   ]
  },
  {
   "cell_type": "markdown",
   "id": "7c36879c",
   "metadata": {},
   "source": [
    "#### Conclusion\n",
    "\n",
    "In both the z-test for proportions (normal distribution approximation) and the binomial test (exact calculation), we arrive at the same conclusion:\n",
    "- Z-Test Conclusion:\n",
    "\n",
    "     - The z-test gave us a p-value (0.0221), which is less than the significance level of 0.05. This led us to reject the null hypothesis. The students' ability to correctly identify the pouring order is significantly better than random guessing.\n",
    "\n",
    "- Binomial Test Conclusion:\n",
    "\n",
    "    - The binomial test provided a p-value of 0.02833, which is also less than 0.05. This exact test confirms that we should reject the null hypothesis, indicating that the students’ performance is not due to random chance."
   ]
  },
  {
   "cell_type": "markdown",
   "id": "f6625388",
   "metadata": {},
   "source": [
    "### Summary of Interactions with ChatGPT\n",
    "\n",
    "1. **Context**: We analyzed the results of an experiment involving 80 students who were asked to identify whether tea or milk was poured first. Out of 80 students, 49 correctly identified the pouring order.\n",
    "\n",
    "2. **Hypothesis Testing**: \n",
    "   - We formulated the null hypothesis ($H_0$) that students are guessing, meaning the probability of correct identification is 50% (p = 0.5).\n",
    "   - The alternative hypothesis ($H_A$) is that the probability of correct identification is greater than 50% (p > 0.5).\n",
    "\n",
    "3. **Tests Conducted**:\n",
    "   - **Z-Test for Proportions**: We conducted a z-test, using the normal distribution to approximate the probability of obtaining 49 or more correct identifications. The resulting p-value was **0.0221**, which is less than the significance level of 0.05, leading us to reject the null hypothesis.\n",
    "   - **Binomial Test**: We also performed an exact binomial test using the binomial distribution to calculate the probability of obtaining 49 or more correct identifications under the assumption of random guessing. The p-value from the binomial test was **0.02833**, which also led us to reject the null hypothesis.\n",
    "\n",
    "4. **Conclusion**:\n",
    "   - Both the z-test and binomial test provided p-values smaller than 0.05, leading us to reject the null hypothesis in both cases. The results suggest that the students' ability to correctly identify the pouring order is significantly better than random guessing.\n"
   ]
  },
  {
   "cell_type": "markdown",
   "id": "82df47cd",
   "metadata": {},
   "source": [
    "[Chatbot transcript](https://chatgpt.com/share/67044168-5cbc-800f-bb69-6f700394d3ad)"
   ]
  },
  {
   "cell_type": "markdown",
   "id": "6d05b368",
   "metadata": {},
   "source": [
    "## Question 9\n",
    "\n",
    "**Yes!**"
   ]
  }
 ],
 "metadata": {
  "kernelspec": {
   "display_name": "Python 3 (ipykernel)",
   "language": "python",
   "name": "python3"
  },
  "language_info": {
   "codemirror_mode": {
    "name": "ipython",
    "version": 3
   },
   "file_extension": ".py",
   "mimetype": "text/x-python",
   "name": "python",
   "nbconvert_exporter": "python",
   "pygments_lexer": "ipython3",
   "version": "3.11.6"
  }
 },
 "nbformat": 4,
 "nbformat_minor": 5
}
