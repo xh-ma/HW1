{
 "cells": [
  {
   "cell_type": "markdown",
   "id": "9d6d1492",
   "metadata": {},
   "source": [
    "# \"Pre-lecture\" HW\n"
   ]
  },
  {
   "cell_type": "markdown",
   "id": "6dbad780",
   "metadata": {},
   "source": [
    "## Question 1\n",
    "\n",
    "Standard Deviation (SD):\n",
    "- A measure of how spread out the individual data points are in a dataset.\n",
    "- It tells you how much variation there is within the data itself.\n",
    "\n",
    "Standard Error of the Mean (SEM):\n",
    "- A measure of how accurately your sample mean estimates the true population mean.\n",
    "- It tells you how much the sample mean would vary if you repeated the experiment multiple times.\n",
    "\n",
    "Difference:\n",
    "- SD measures the spread of the data.\n",
    "- SEM measures the precision of the sample mean as an estimate of the population mean (and gets smaller with larger sample sizes)."
   ]
  },
  {
   "cell_type": "markdown",
   "id": "5bcb655e",
   "metadata": {},
   "source": [
    "### Summary of Interactions with ChatGPT\n",
    "\n",
    "1. User Inquiry on \"Standard Error of the Mean\" vs. \"Standard Deviation\":\n",
    "- The user asked about the difference between the \"standard error of the mean\" and \"standard deviation,\" referencing a video that described the standard error of the mean as the \"standard deviation\" of the distribution of bootstrapped means.\n",
    "\n",
    "Response Provided:\n",
    "\n",
    "- Standard Deviation (SD): Describes the spread or variability of individual data points around the mean.\n",
    "- Standard Error of the Mean (SEM): Describes the precision of the sample mean as an estimate of the population mean, calculated as the standard deviation of the sampling distribution of the mean.\n",
    "- Clarified that SEM is typically smaller than SD and decreases with larger sample sizes. In bootstrapping, the SEM is the standard deviation of the bootstrapped means.\n",
    "2. User Inquiry on \"Dispersion\" vs. \"Spread or Scale\":\n",
    "- The user asked if \"dispersion\" is equivalent to the \"spread of the data\" or the \"scale of the data,\" after hearing the term for the first time.\n",
    "\n",
    "Response Provided:\n",
    "\n",
    "- Dispersion refers to the spread or variability of the data points.\n",
    "- It's quantified using measures like the range, variance, standard deviation, and interquartile range (IQR).\n",
    "- Clarified that spread and dispersion are equivalent concepts, while scale refers more to the magnitude of the data values, which can influence the observed spread.\n"
   ]
  },
  {
   "cell_type": "markdown",
   "id": "312f749a",
   "metadata": {},
   "source": [
    "[Chatbot transcript](https://chatgpt.com/share/66fae135-3214-800f-8898-94b2ee97f2d9)"
   ]
  },
  {
   "cell_type": "markdown",
   "id": "68a19dc0",
   "metadata": {},
   "source": [
    "## Question 2\n",
    "\n",
    "How to use the standard error of the mean to create a 95% confidence interval that covers 95% of the bootstrapped sample means:\n",
    "\n",
    "Steps:\n",
    "1. Take many bootstrap samples:\n",
    "\n",
    "- From your original dataset, create many new samples by randomly selecting data points with replacement (this means the same data point can be picked more than once). These are your bootstrap samples.\n",
    "\n",
    "2. Calculate the mean for each bootstrap sample:\n",
    "\n",
    "- For each of these bootstrap samples, calculate the mean. After doing this for all your samples, you will have a distribution of bootstrapped means.\n",
    "\n",
    "3. Find the standard error (SE) of the bootstrapped means:\n",
    "\n",
    "- The SE is simply the standard deviation of the bootstrapped sample means. This tells you how much those means are varying.\n",
    "- Use the SE to create the confidence interval:\n",
    "\n",
    "- To make a 95% confidence interval, multiply the SE by 1.96 (this number comes from the 95% confidence level).\n",
    "- This gives you the margin of error (ME).\n",
    "\n",
    "4. Create the final confidence interval:\n",
    "\n",
    "- Take your original sample mean and add and subtract the margin of error (ME) from it."
   ]
  },
  {
   "cell_type": "markdown",
   "id": "ceaa7e0f",
   "metadata": {},
   "source": [
    "### Summary of Interactions with ChatGPT\n",
    "1. Standard Error and Confidence Interval Explanation:\n",
    "\n",
    "- We discussed how to use the standard error of the mean (SE) to calculate a 95% confidence interval.\n",
    "- The process involves:\n",
    "    - Calculating the SE: SE = standard deviation / √sample size.\n",
    "    - Choosing a confidence level: For 95%, the corresponding Z-score is 1.96.\n",
    "    - Finding the margin of error (ME): ME = Z * SE.\n",
    "    - Creating the confidence interval: Subtract and add the ME to the sample mean to get the interval (mean - ME, mean + ME).\n",
    "2. Bootstrapped Confidence Intervals:\n",
    "\n",
    "- We then discussed how the standard error could be used to construct a confidence interval that covers 95% of bootstrapped sample means.\n",
    "- The steps involved are:\n",
    "    - Generate bootstrap samples from the original data.\n",
    "    - Calculate the mean for each bootstrap sample to get a distribution of bootstrapped means.\n",
    "    - Find the SE by computing the standard deviation of the bootstrapped means.\n",
    "    - Use the SE to calculate the margin of error and create the 95% confidence interval (mean ± ME).\n",
    "3. Practical Implementation in a Notebook:\n",
    "\n",
    "    - I provided a simple Python code that demonstrates how to:\n",
    "        - Generate bootstrap samples.\n",
    "        - Calculate the confidence interval based on the bootstrapped means.\n",
    "        - Visualize the bootstrapped means and overlay the confidence interval on a plot.\n",
    "4. Final Result:\n",
    "\n",
    "    - The result is a confidence interval (in the example, 95%) that covers 95% of the bootstrapped sample means and a visual representation through a histogram plot showing the distribution of bootstrapped means, the original mean, and the confidence bounds."
   ]
  },
  {
   "cell_type": "markdown",
   "id": "e58713f5",
   "metadata": {},
   "source": [
    "[Chatbot transcript](https://chatgpt.com/share/66fae5e8-9898-800f-af9a-6b4f679abf47)"
   ]
  },
  {
   "cell_type": "markdown",
   "id": "2ccb4516",
   "metadata": {},
   "source": [
    "## Question 3\n",
    "\n",
    "To create a 95% bootstrapped confidence interval without using the standard deviation of the bootstrapped means, you can use the percentile method. Here’s how:\n",
    "\n",
    "- Steps:\n",
    "    - Generate Bootstrap Samples:\n",
    "\n",
    "        - From your original dataset, randomly resample with replacement many times (e.g., 1,000 or 10,000 bootstrap samples).\n",
    "            - Calculate the Mean for Each Bootstrap Sample:\n",
    "\n",
    "            - Compute the mean for each of the bootstrap samples. This gives you a distribution of bootstrapped means.\n",
    "            - Determine the Confidence Interval from Percentiles:\n",
    "\n",
    "            - To create a 95% confidence interval, simply take the 2.5th percentile and 97.5th percentile of the bootstrapped means. These percentiles represent the lower and upper bounds of the confidence interval, covering 95% of the bootstrapped sample means.\n",
    "            \n",
    " This method doesn't require calculating the standard error; it relies directly on the bootstrapped distribution to estimate the confidence interval."
   ]
  },
  {
   "cell_type": "markdown",
   "id": "96ee1868",
   "metadata": {},
   "source": [
    "### Summary of Interactions with ChatGPT\n",
    "1. Bootstrapped Confidence Intervals without Standard Error:\n",
    "\n",
    "- We discussed how to create a 95% bootstrapped confidence interval using the percentile method without relying on the standard deviation of the bootstrapped means.\n",
    "- The steps include:\n",
    "    - Generating bootstrap samples from the original dataset by resampling with replacement.\n",
    "    - Calculating the mean for each bootstrap sample to obtain a distribution of bootstrapped means.\n",
    "    - Determining the 2.5th and 97.5th percentiles of the bootstrapped means to establish the lower and upper bounds of the confidence interval.\n",
    "2. Explanation of Percentiles:\n",
    "\n",
    "- A percentile indicates the relative standing of a value within a data set, showing the value below which a given percentage of observations fall.\n",
    "- For instance, the 25th percentile is the value below which 25% of the data points lie, while the 50th percentile represents the median.\n",
    "- In the context of bootstrapping, the 2.5th percentile and 97.5th percentile are used to define the bounds of a 95% confidence interval.\n",
    "3. Summary of Key Points:\n",
    "\n",
    "- The percentile method provides a straightforward approach to constructing confidence intervals based on the distribution of bootstrapped means.\n",
    "- It captures the central 95% of the distribution without requiring calculations of standard error."
   ]
  },
  {
   "cell_type": "markdown",
   "id": "cf03b5eb",
   "metadata": {},
   "source": [
    "[Chatbot transcript](https://chatgpt.com/share/66fae5e8-9898-800f-af9a-6b4f679abf47)"
   ]
  },
  {
   "cell_type": "markdown",
   "id": "10075140",
   "metadata": {},
   "source": [
    "## Question 4"
   ]
  },
  {
   "cell_type": "code",
   "execution_count": 8,
   "id": "3df24119",
   "metadata": {},
   "outputs": [
    {
     "name": "stdout",
     "output_type": "stream",
     "text": [
      "95% Bootstrap Confidence Interval for the mean of quality: [5.60, 5.68]\n",
      "95% Bootstrap Confidence Interval for the median of quality: [6.00, 6.00]\n",
      "95% Bootstrap Confidence Interval for the standard deviation of quality: [0.78, 0.84]\n"
     ]
    }
   ],
   "source": [
    "import pandas as pd\n",
    "import numpy as np\n",
    "\n",
    "# Load the dataset\n",
    "url = \"https://archive.ics.uci.edu/ml/machine-learning-databases/wine-quality/winequality-red.csv\"\n",
    "data = pd.read_csv(url, sep=';')\n",
    "\n",
    "# Choose the attribute for which to calculate the bootstrap confidence interval\n",
    "attribute = 'quality'  # Change this to another attribute for different analysis\n",
    "samples = data[attribute].dropna()  # Remove NaN values from the selected attribute\n",
    "\n",
    "# Function to compute bootstrap confidence intervals for a given statistic\n",
    "def bootstrap_ci(data, statistic_func, num_samples=10000, alpha=0.05):\n",
    "    n = len(data)  # Size of the original dataset\n",
    "    # Generate bootstrap samples\n",
    "    bootstrap_samples = np.random.choice(data, (num_samples, n), replace=True)\n",
    "    # Apply the statistic function to each bootstrap sample\n",
    "    bootstrap_statistics = statistic_func(bootstrap_samples, axis=1)\n",
    "    # Calculate the lower and upper percentiles for the confidence interval\n",
    "    lower_bound = np.percentile(bootstrap_statistics, 100 * alpha / 2)\n",
    "    upper_bound = np.percentile(bootstrap_statistics, 100 * (1 - alpha / 2))\n",
    "    return lower_bound, upper_bound\n",
    "\n",
    "# Define different statistic functions for different population parameters\n",
    "def mean_func(data, axis=1):\n",
    "    return np.mean(data, axis=axis)  # Mean of the bootstrap samples\n",
    "\n",
    "def median_func(data, axis=1):\n",
    "    return np.median(data, axis=axis)  # Median of the bootstrap samples\n",
    "\n",
    "def std_dev_func(data, axis=1):\n",
    "    return np.std(data, axis=axis)  # Standard deviation of the bootstrap samples\n",
    "\n",
    "# Calculate the bootstrap confidence intervals\n",
    "mean_ci = bootstrap_ci(samples, mean_func)  # Confidence interval for the mean\n",
    "median_ci = bootstrap_ci(samples, median_func)  # Confidence interval for the median\n",
    "std_dev_ci = bootstrap_ci(samples, std_dev_func)  # Confidence interval for the standard deviation\n",
    "\n",
    "# Print the results\n",
    "print(f\"95% Bootstrap Confidence Interval for the mean of {attribute}: [{mean_ci[0]:.2f}, {mean_ci[1]:.2f}]\")\n",
    "print(f\"95% Bootstrap Confidence Interval for the median of {attribute}: [{median_ci[0]:.2f}, {median_ci[1]:.2f}]\")\n",
    "print(f\"95% Bootstrap Confidence Interval for the standard deviation of {attribute}: [{std_dev_ci[0]:.2f}, {std_dev_ci[1]:.2f}]\")\n"
   ]
  },
  {
   "cell_type": "markdown",
   "id": "46d5518a",
   "metadata": {},
   "source": [
    "To modify the previous bootstrap code for a different population parameter, follow these steps:\n",
    "\n",
    "- Select the Parameter: Decide which population parameter you want to estimate. This could be the mean, median, standard deviation, or any other statistic relevant to your analysis.\n",
    "\n",
    "- Create a Statistic Function: Define a new function that calculates your chosen statistic. For example, if you want to calculate the median, you would create a function that computes the median of the bootstrap samples.\n",
    "\n",
    "- Update the Bootstrap Function Call: In the part of the code where you call the `bootstrap_ci` function, replace the statistic function currently used (e.g., `mean_func`) with your newly defined function (e.g., `median_func`).\n",
    "\n",
    "- Interpret the Results: Once you run the modified code, examine the output confidence interval. This interval will give you an estimate of the uncertainty around your new parameter."
   ]
  },
  {
   "cell_type": "markdown",
   "id": "c1093f42",
   "metadata": {},
   "source": [
    "### Summary of Interactions with ChatGPT\n",
    "\n",
    "1. Introduction to Bootstrap Confidence Intervals: We discussed how bootstrap confidence intervals can be applied to various statistics, such as the mean and median. You expressed interest in calculating a 95% bootstrap confidence interval using a dataset.\n",
    "\n",
    "2. Dataset and Code Example: I provided a code snippet that uses the Wine Quality Dataset to compute bootstrap confidence intervals. The code demonstrated how to sample from the data and calculate the mean as well as how to adapt it for other parameters.\n",
    "\n",
    "3. Explanation of Key Functions: We explored the np.random.choice function used in the code to generate bootstrap samples and how np.percentile computes the confidence intervals based on these samples.\n",
    "\n",
    "4. Modifying the Code for Different Parameters: You requested guidance on how to modify the code to calculate confidence intervals for different population parameters. I outlined steps including defining new statistic functions (e.g., for median or standard deviation) and updating the function call accordingly.\n",
    "\n",
    "5. Practical Applications and Resources: We touched on how this method applies in various fields such as healthcare, finance, and social sciences, emphasizing the versatility of bootstrap methods. I suggested resources for further reading on the topic."
   ]
  },
  {
   "cell_type": "markdown",
   "id": "3089f9e3",
   "metadata": {},
   "source": [
    "[Chatbot transcript](https://chatgpt.com/share/66faf3b2-2684-800f-9481-e7db777d51ed)"
   ]
  },
  {
   "cell_type": "markdown",
   "id": "e870664f",
   "metadata": {},
   "source": [
    "# \"Post-lecture\" HW\n",
    "\n",
    "## Question 5\n",
    "\n",
    "- Population Parameter: A fixed, unknown value that describes a characteristic of the entire population (e.g., true mean).\n",
    " \n",
    "- Sample Statistic: A calculated value from a sample that estimates the population parameter (e.g., sample mean).\n",
    "\n",
    "- Estimation and Uncertainty:\n",
    "    - The sample statistic serves as an estimate for the population parameter.\n",
    "    - Confidence intervals quantify the uncertainty around this estimate, indicating the range where the population parameter likely falls.\n",
    "- Variability:\n",
    "\n",
    "- Different samples yield different statistics due to random variation; CIs account for this variability.\n",
    "- The confidence level (e.g., 95%) reflects the proportion of times the interval would capture the population parameter if samples were repeatedly taken."
   ]
  },
  {
   "cell_type": "markdown",
   "id": "f067939b",
   "metadata": {},
   "source": [
    "### Summary of Interactions with ChatGPT\n",
    "\n",
    "1. Confidence Intervals for Different Population Parameters:\n",
    "\n",
    "- You asked about distinguishing between population parameters and sample statistics in the context of confidence intervals. I explained that population parameters (like the true mean) are unknown, while sample statistics (like the sample mean) are used to estimate these parameters. Confidence intervals quantify the uncertainty of this estimation.\n",
    "\n",
    "2. Concise Explanation of Population Parameters vs. Sample Statistics:\n",
    "\n",
    "- I provided a concise explanation about the importance of differentiating between population parameters and sample statistics when interpreting confidence intervals. This distinction is key for accurate estimation, handling variability, hypothesis testing, and clear communication of statistical findings."
   ]
  },
  {
   "cell_type": "markdown",
   "id": "1f5b09d1",
   "metadata": {},
   "source": [
    "[Chatbot transcript](https://chatgpt.com/share/66faf3b2-2684-800f-9481-e7db777d51ed)"
   ]
  },
  {
   "cell_type": "markdown",
   "id": "eae0dc6b",
   "metadata": {},
   "source": [
    "## Question 6"
   ]
  },
  {
   "cell_type": "markdown",
   "id": "a5378b99",
   "metadata": {},
   "source": [
    "1. Bootstrapping is when you take your small set of data, mix it up, and create lots of new samples from it. Then, you calculate what you’re interested in (like the average) from each sample. This helps you estimate what might happen if you had more data, without actually needing more.\n",
    "\n",
    "2. The main purpose of bootstrapping is to estimate the variability or uncertainty of a statistic (like the mean or median) when you have limited data. It helps you understand what the range of possible outcomes could be without needing to gather more data.\n",
    "\n",
    "3. To assess whether the hypothesized average is plausible using bootstrapping, you would start by taking your sample data and repeatedly resampling from it, with replacement, to create many new samples. Each of these new samples would then be used to calculate an average, giving you a distribution of possible averages based on your sample. You can then compare your hypothesized average to this distribution. If your guess falls within the range of these bootstrapped averages, it’s likely plausible. However, if your hypothesized average is far outside this range, it suggests that your guess might not accurately reflect the population average."
   ]
  },
  {
   "cell_type": "markdown",
   "id": "9b1451b0",
   "metadata": {},
   "source": [
    "## Question 7"
   ]
  },
  {
   "cell_type": "markdown",
   "id": "b4d45277",
   "metadata": {},
   "source": [
    "A confidence interval overlapping zero \"fails to reject the null hypothesis\" because the confidence interval represents the range of values within which we believe the true population parameter (like the mean) lies, based on our sample data. If zero is included in this range, it means that zero is a plausible value for the population parameter.\n",
    "\n",
    "In the context of hypothesis testing, the null hypothesis typically states that there is no effect or no difference (e.g., the population mean is zero). If zero is within the confidence interval, it suggests that our data isn’t strong enough to confidently say the true mean is different from zero. So, even if the sample mean isn’t zero, the data isn’t providing enough evidence to reject the idea that zero could still be the true population mean.\n",
    "\n"
   ]
  },
  {
   "cell_type": "markdown",
   "id": "80eeb97e",
   "metadata": {},
   "source": [
    "To reject the null hypothesis, the confidence interval must not include zero. This would mean that the range of possible values for the true population mean is entirely above or below zero. In other words, zero is not a plausible value for the population parameter based on the data, suggesting that there is a statistically significant effect or difference.\n",
    "\n",
    "For example, if your confidence interval is entirely positive (e.g., 1.5 to 3.0) or entirely negative (e.g., -2.0 to -0.5), you can be more confident that the true mean is different from zero. This would indicate that the observed sample mean is likely reflecting a real effect or difference in the population, and therefore, you reject the null hypothesis that assumes no effect (i.e., the mean is zero)."
   ]
  },
  {
   "cell_type": "markdown",
   "id": "0f94c008",
   "metadata": {},
   "source": [
    "### Summary of Interactions with ChatGPT\n",
    "\n",
    "1. Hypothesis Testing and Confidence Intervals:\n",
    "\n",
    "- We discussed that the null hypothesis ($H_0$) typically represents \"no effect\" in hypothesis testing. In your example, the null hypothesis would state that a drug has no effect (i.e., the mean difference between treatment and control groups is zero).\n",
    "- A confidence interval (**CI**) provides a range of plausible values for the population parameter. If the confidence interval includes zero, it means that zero is a plausible value for the true population parameter. This suggests that the data do not provide strong enough evidence to reject the null hypothesis, so we \"fail to reject\" it. This is not the same as accepting the null; it means that the evidence is insufficient to conclude the drug has a significant effect.\n",
    "2. Why \"Failing to Reject\" the Null Hypothesis Occurs:\n",
    "\n",
    "- We explored that the term \"failing to reject\" is used because hypothesis testing operates on evidence and probabilities, not proof. Even if the sample mean is not zero, we fail to reject the null hypothesis when the confidence interval includes zero because the data are not conclusive enough to rule out the possibility of no effect.\n",
    "- This can happen due to factors like small sample sizes or high variability in the data, which leads to wider confidence intervals.\n",
    "\n",
    "3. What Leads to Rejecting the Null Hypothesis:\n",
    "\n",
    "- The opposite conclusion (rejecting the null hypothesis) happens when the confidence interval does not include zero. In this case, we have strong enough evidence to conclude that the true mean difference between groups is likely not zero, meaning the drug has a statistically significant effect.\n",
    "- Narrower confidence intervals, driven by lower variability or larger sample sizes, make it easier to reject the null hypothesis if the sample data suggest a real effect."
   ]
  },
  {
   "cell_type": "markdown",
   "id": "2dd55ecf",
   "metadata": {},
   "source": [
    "[Chatbot transcript](https://chatgpt.com/share/66fb5154-25f4-800f-92f5-17f3390efb34)"
   ]
  },
  {
   "cell_type": "markdown",
   "id": "ef73c0b1",
   "metadata": {},
   "source": [
    "## Question 8\n"
   ]
  },
  {
   "cell_type": "markdown",
   "id": "eab37768",
   "metadata": {},
   "source": [
    "- A visual presentation giving some initial insight into the comparison of interest."
   ]
  },
  {
   "cell_type": "code",
   "execution_count": 16,
   "id": "d006d29f",
   "metadata": {},
   "outputs": [
    {
     "data": {
      "image/png": "[encoded data removed]",
      "text/plain": [
       "<Figure size 1000x600 with 1 Axes>"
      ]
     },
     "metadata": {},
     "output_type": "display_data"
    }
   ],
   "source": [
    "import pandas as pd\n",
    "import numpy as np\n",
    "import matplotlib.pyplot as plt\n",
    "\n",
    "# Load the data\n",
    "data = {\n",
    "    \"PatientID\": [1, 2, 3, 4, 5, 6, 7, 8, 9, 10],\n",
    "    \"Age\": [45, 34, 29, 52, 37, 41, 33, 48, 26, 39],\n",
    "    \"Gender\": [\"M\", \"F\", \"M\", \"F\", \"M\", \"F\", \"M\", \"F\", \"M\", \"F\"],\n",
    "    \"InitialHealthScore\": [84, 78, 83, 81, 81, 80, 79, 85, 76, 83],\n",
    "    \"FinalHealthScore\": [86, 86, 80, 86, 84, 86, 86, 82, 83, 84],\n",
    "}\n",
    "\n",
    "df = pd.DataFrame(data)\n",
    "\n",
    "# Calculate the change in health score\n",
    "df['HealthScoreChange'] = df['FinalHealthScore'] - df['InitialHealthScore']\n",
    "\n",
    "# Bootstrapping\n",
    "num_iterations = 1000\n",
    "bootstrapped_means = []\n",
    "\n",
    "for _ in range(num_iterations):\n",
    "    sample = df['HealthScoreChange'].sample(frac=1, replace=True)\n",
    "    bootstrapped_means.append(sample.mean())\n",
    "\n",
    "# Visualizing the results\n",
    "plt.figure(figsize=(10, 6))\n",
    "plt.hist(bootstrapped_means, bins=30, alpha=0.7, color='blue', edgecolor='black')\n",
    "plt.axvline(np.mean(bootstrapped_means), color='red', linestyle='dashed', linewidth=2, label='Mean Bootstrapped Change')\n",
    "plt.axvline(df['HealthScoreChange'].mean(), color='green', linestyle='dashed', linewidth=2, label='Original Mean Change')\n",
    "plt.title('Distribution of Bootstrapped Means of Health Score Change')\n",
    "plt.xlabel('Mean Health Score Change')\n",
    "plt.ylabel('Frequency')\n",
    "plt.legend()\n",
    "plt.grid()\n",
    "plt.show()\n"
   ]
  },
  {
   "cell_type": "markdown",
   "id": "a61815ef",
   "metadata": {},
   "source": [
    "- A quantitative analysis of the data and an explanation of the method and purpose of this method."
   ]
  },
  {
   "cell_type": "code",
   "execution_count": 13,
   "id": "9ba3445d",
   "metadata": {},
   "outputs": [
    {
     "name": "stdout",
     "output_type": "stream",
     "text": [
      "Initial stats\n",
      "count    10.000000\n",
      "mean     81.000000\n",
      "std       2.828427\n",
      "min      76.000000\n",
      "25%      79.250000\n",
      "50%      81.000000\n",
      "75%      83.000000\n",
      "max      85.000000\n",
      "Name: InitialHealthScore, dtype: float64\n",
      "\n",
      "Final stats\n",
      "count    10.000000\n",
      "mean     84.300000\n",
      "std       2.110819\n",
      "min      80.000000\n",
      "25%      83.250000\n",
      "50%      85.000000\n",
      "75%      86.000000\n",
      "max      86.000000\n",
      "Name: FinalHealthScore, dtype: float64\n",
      "\n",
      "Mean change\n",
      "3.3\n",
      "\n",
      "STD change\n",
      "4.029061098237818\n"
     ]
    }
   ],
   "source": [
    "# Descriptive statistics\n",
    "initial_stats = df['InitialHealthScore'].describe()\n",
    "final_stats = df['FinalHealthScore'].describe()\n",
    "mean_change = df['HealthScoreChange'].mean()\n",
    "std_change = df['HealthScoreChange'].std()\n",
    "print('Initial stats')\n",
    "print(initial_stats)\n",
    "print('\\nFinal stats')\n",
    "print(final_stats)\n",
    "print('\\nMean change')\n",
    "print(mean_change)\n",
    "print('\\nSTD change')\n",
    "print(std_change)"
   ]
  },
  {
   "cell_type": "code",
   "execution_count": 17,
   "id": "4f6c8d96",
   "metadata": {},
   "outputs": [
    {
     "name": "stdout",
     "output_type": "stream",
     "text": [
      "Mean of Bootstrapped Means: 3.25\n",
      "95% Confidence Interval for Mean Change: [0.80, 5.40]\n"
     ]
    }
   ],
   "source": [
    "# Bootstrapping\n",
    "num_iterations = 1000\n",
    "bootstrapped_means = []\n",
    "\n",
    "for _ in range(num_iterations):\n",
    "    sample = df['HealthScoreChange'].sample(frac=1, replace=True)\n",
    "    bootstrapped_means.append(sample.mean())\n",
    "\n",
    "# Calculate the confidence interval\n",
    "lower_bound = np.percentile(bootstrapped_means, 2.5)\n",
    "upper_bound = np.percentile(bootstrapped_means, 97.5)\n",
    "\n",
    "# Print the outcomes\n",
    "mean_bootstrapped = np.mean(bootstrapped_means)\n",
    "print(f\"Mean of Bootstrapped Means: {mean_bootstrapped:.2f}\")\n",
    "print(f\"95% Confidence Interval for Mean Change: [{lower_bound:.2f}, {upper_bound:.2f}]\")"
   ]
  },
  {
   "cell_type": "markdown",
   "id": "b5d6da5d",
   "metadata": {},
   "source": [
    "- Conclusion Regarding the Null Hypothesis of \"No Effect\""
   ]
  },
  {
   "cell_type": "markdown",
   "id": "6b50c26c",
   "metadata": {},
   "source": [
    "##### Null Hypothesis (H0)\n",
    "The null hypothesis states that there is no effect of the vaccine on the health scores of the patients. This means that the mean change in health scores (Final Health Score - Initial Health Score) is equal to zero:\n",
    "\n",
    "$$ H_0: \\mu_{\\text{change}} = 0 $$\n",
    "\n",
    "##### Alternative Hypothesis (H1)\n",
    "The alternative hypothesis suggests that there is an effect of the vaccine, meaning the mean change is not equal to zero:\n",
    "\n",
    "$$ H_1: \\mu_{\\text{change}} \\neq 0 $$\n",
    "\n",
    "##### Results from Bootstrapping\n",
    "From the bootstrapping analysis, we calculated:\n",
    "\n",
    "- **Mean of Bootstrapped Means**: 3.25\n",
    "- **95% Confidence Interval for Mean Change**: [0.80, 5.40]\n",
    "\n",
    "#### Analysis of Results\n",
    "1. **Mean Change**: The mean change in health scores is positive (3.25), indicating an overall improvement in health after vaccination.\n",
    "  \n",
    "2. **Confidence Interval**: The 95% confidence interval for the mean change does not include zero ([0.80, 5.40]). This indicates that we can be 95% confident that the true mean change in health scores is positive.\n",
    "\n",
    "#### Conclusion\n",
    "Based on the bootstrapping analysis and the resulting confidence interval, we reject the null hypothesis of no effect. The data provides sufficient evidence to support the alternative hypothesis, suggesting that the vaccine has a statistically significant effect on improving health scores.\n"
   ]
  },
  {
   "cell_type": "markdown",
   "id": "6a7ed0d2",
   "metadata": {},
   "source": [
    "### Summary of Interactions with ChatGPT\n",
    "1. Data Overview\n",
    "- You provided a dataset containing information about patients, including their initial and final health scores before and after receiving a new vaccine.\n",
    "2. Initial Analysis\n",
    "- We discussed how to analyze the effectiveness of the vaccine by calculating the change in health scores and determining basic statistics such as mean and standard deviation.\n",
    "- You were introduced to the concept of bootstrapping as a method to estimate the sampling distribution of the mean change in health scores.\n",
    "3. Bootstrapping Implementation\n",
    "- We implemented a bootstrapping procedure in Python to resample the health score changes and calculate the mean for each sample.\n",
    "- A histogram was created to visualize the distribution of the bootstrapped means, providing insight into the variability and central tendency of the results.\n",
    "4. Quantitative Results\n",
    "- Descriptive statistics were computed, indicating the average change in health scores.\n",
    "- A 95% confidence interval for the mean change was calculated, indicating a range in which the true mean change lies.\n",
    "5. Hypothesis Testing\n",
    "- We formulated a null hypothesis (no effect of the vaccine) and an alternative hypothesis (the vaccine has an effect).\n",
    "- Based on the bootstrapping results, we rejected the null hypothesis, concluding that there is sufficient evidence to support the effectiveness of the vaccine.\n",
    "6. Conclusion\n",
    "- The analysis indicated that the vaccine leads to a statistically significant improvement in health scores, with a mean change of approximately 3.25 and a confidence interval of [0.80, 5.40].\n",
    "7. Next Steps\n",
    "- We noted the importance of further research with larger sample sizes to validate these findings and explore the long-term effects of the vaccine."
   ]
  },
  {
   "cell_type": "markdown",
   "id": "237bccf2",
   "metadata": {},
   "source": [
    "[Chatbot transcript](https://chatgpt.com/share/66fb5908-4c08-800f-bb73-a400124ab4bc)"
   ]
  },
  {
   "cell_type": "markdown",
   "id": "d12ff276",
   "metadata": {},
   "source": [
    "## Question 9\n",
    "**yes!**"
   ]
  }
 ],
 "metadata": {
  "kernelspec": {
   "display_name": "Python 3 (ipykernel)",
   "language": "python",
   "name": "python3"
  },
  "language_info": {
   "codemirror_mode": {
    "name": "ipython",
    "version": 3
   },
   "file_extension": ".py",
   "mimetype": "text/x-python",
   "name": "python",
   "nbconvert_exporter": "python",
   "pygments_lexer": "ipython3",
   "version": "3.11.6"
  }
 },
 "nbformat": 4,
 "nbformat_minor": 5
}
